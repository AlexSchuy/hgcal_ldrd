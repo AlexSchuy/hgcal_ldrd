{
 "cells": [
  {
   "cell_type": "code",
   "execution_count": 1,
   "metadata": {},
   "outputs": [],
   "source": [
    "import uproot\n",
    "import awkward\n",
    "import numpy as np\n",
    "from scipy.sparse import csr_matrix\n",
    "\n",
    "test = uproot.open('../../samples/partGun_PDGid13_x2_E35.0To35.0_NTUP_1.root')['ana;1']['hgc;1']"
   ]
  },
  {
   "cell_type": "code",
   "execution_count": 2,
   "metadata": {},
   "outputs": [
    {
     "name": "stdout",
     "output_type": "stream",
     "text": [
      "ispos False\n",
      "ispos True\n",
      "<15869x15869 sparse matrix of type '<type 'numpy.bool_'>'\n",
      "\twith 2346 stored elements in Compressed Sparse Row format>\n",
      "<15575x15575 sparse matrix of type '<type 'numpy.bool_'>'\n",
      "\twith 1485 stored elements in Compressed Sparse Row format>\n",
      "ispos False\n",
      "ispos True\n",
      "<15743x15743 sparse matrix of type '<type 'numpy.bool_'>'\n",
      "\twith 1176 stored elements in Compressed Sparse Row format>\n",
      "<15849x15849 sparse matrix of type '<type 'numpy.bool_'>'\n",
      "\twith 1378 stored elements in Compressed Sparse Row format>\n"
     ]
    }
   ],
   "source": [
    "#example of generating a simple adjacency graph for a single endcap\n",
    "#this makes many assumptions like one particle per event per endcap\n",
    "arrays = test.arrays(['simcluster_hits_indices','rechit_z'])\n",
    "rechit_z = arrays['rechit_z']\n",
    "sim_indices = awkward.fromiter(arrays['simcluster_hits_indices'])\n",
    "valid_sim_indices = sim_indices[sim_indices > -1]\n",
    "\n",
    "for ievt in range(rechit_z.size):\n",
    "    distincts = valid_sim_indices[ievt].distincts()\n",
    "    pos_z_mask = (rechit_z[ievt] > 0)\n",
    "    rh_pos_z, = np.where(pos_z_mask)\n",
    "    rh_neg_z, = np.where(~pos_z_mask)\n",
    "    rh_idx_map = np.zeros(pos_z_mask.size)\n",
    "    rh_idx_map[pos_z_mask] = np.arange(rh_pos_z.size)\n",
    "    rh_idx_map[~pos_z_mask] = np.arange(rh_neg_z.size)\n",
    "        \n",
    "    pos_shape = (rh_pos_z.size,rh_pos_z.size)\n",
    "    neg_shape = (rh_neg_z.size,rh_neg_z.size)\n",
    "    \n",
    "    adj_pos_z = csr_matrix(pos_shape,dtype=np.bool)\n",
    "    adj_neg_z = csr_matrix(neg_shape,dtype=np.bool)    \n",
    "    \n",
    "    for iclu in range(distincts.size):\n",
    "        ispos = np.all(rechit_z[ievt][valid_sim_indices[ievt][iclu]] > 0)\n",
    "        print 'ispos',ispos\n",
    "        \n",
    "        row = rh_idx_map[distincts[iclu].i0]\n",
    "        col = rh_idx_map[distincts[iclu].i1]\n",
    "        data = np.ones(distincts[iclu].i0.size,dtype=np.bool)\n",
    "                \n",
    "        if ispos:\n",
    "            mat = csr_matrix((data,(row,col)),shape=pos_shape,dtype=np.bool)\n",
    "            adj_pos_z += mat\n",
    "        else:\n",
    "            mat = csr_matrix((data,(row,col)),shape=neg_shape,dtype=np.bool)\n",
    "            adj_neg_z += mat\n",
    "    \n",
    "    print repr(adj_pos_z)\n",
    "    print repr(adj_neg_z)\n"
   ]
  },
  {
   "cell_type": "code",
   "execution_count": null,
   "metadata": {},
   "outputs": [],
   "source": []
  },
  {
   "cell_type": "code",
   "execution_count": null,
   "metadata": {},
   "outputs": [],
   "source": []
  }
 ],
 "metadata": {
  "kernelspec": {
   "display_name": "Python 2",
   "language": "python",
   "name": "python2"
  },
  "language_info": {
   "codemirror_mode": {
    "name": "ipython",
    "version": 2
   },
   "file_extension": ".py",
   "mimetype": "text/x-python",
   "name": "python",
   "nbconvert_exporter": "python",
   "pygments_lexer": "ipython2",
   "version": "2.7.15"
  }
 },
 "nbformat": 4,
 "nbformat_minor": 2
}
